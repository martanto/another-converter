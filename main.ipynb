{
 "cells": [
  {
   "cell_type": "code",
   "execution_count": 1,
   "id": "b2b24f72-f6b1-468a-b64d-0d99bca4232e",
   "metadata": {},
   "outputs": [],
   "source": [
    "import os\n",
    "import datetime\n",
    "import pandas as pd\n",
    "from IPython.display import JSON\n",
    "from models.SeismicData import SeismicData\n",
    "from config.config import Configuration\n",
    "from cores.files import Files\n",
    "from cores.convert import Convert\n",
    "from obspy import read"
   ]
  },
  {
   "cell_type": "markdown",
   "id": "9d9f2931-9333-4906-a8a6-1bed1185ad11",
   "metadata": {},
   "source": [
    "Get current working directory"
   ]
  },
  {
   "cell_type": "code",
   "execution_count": 2,
   "id": "6e66b65d-b349-4ef4-881f-dc2795e9f111",
   "metadata": {},
   "outputs": [
    {
     "name": "stdout",
     "output_type": "stream",
     "text": [
      "E:\\Projects\\another-converter\n"
     ]
    }
   ],
   "source": [
    "print(os.getcwd())"
   ]
  },
  {
   "cell_type": "markdown",
   "id": "d69687f8-4413-4d0f-b33b-bef6d0833c1b",
   "metadata": {},
   "source": [
    "Check `seismics` table "
   ]
  },
  {
   "cell_type": "code",
   "execution_count": 3,
   "id": "d96f4071-1122-45f2-8f97-df381071f925",
   "metadata": {},
   "outputs": [],
   "source": [
    "stations = SeismicData.all()"
   ]
  },
  {
   "cell_type": "code",
   "execution_count": 4,
   "id": "3acd3bce-3dc4-4d76-9756-26301638bce1",
   "metadata": {},
   "outputs": [],
   "source": [
    "df = pd.DataFrame(stations.serialize())"
   ]
  },
  {
   "cell_type": "code",
   "execution_count": 5,
   "id": "57b23e43-f23d-4ec3-a3ef-8652832fce58",
   "metadata": {},
   "outputs": [
    {
     "data": {
      "text/html": [
       "<div>\n",
       "<style scoped>\n",
       "    .dataframe tbody tr th:only-of-type {\n",
       "        vertical-align: middle;\n",
       "    }\n",
       "\n",
       "    .dataframe tbody tr th {\n",
       "        vertical-align: top;\n",
       "    }\n",
       "\n",
       "    .dataframe thead th {\n",
       "        text-align: right;\n",
       "    }\n",
       "</style>\n",
       "<table border=\"1\" class=\"dataframe\">\n",
       "  <thead>\n",
       "    <tr style=\"text-align: right;\">\n",
       "      <th></th>\n",
       "      <th>filename</th>\n",
       "      <th>scnl</th>\n",
       "      <th>date</th>\n",
       "      <th>sampling_rate</th>\n",
       "      <th>max_amplitude</th>\n",
       "      <th>availability</th>\n",
       "      <th>filesize</th>\n",
       "      <th>created_at</th>\n",
       "      <th>updated_at</th>\n",
       "      <th>deleted_at</th>\n",
       "    </tr>\n",
       "    <tr>\n",
       "      <th>id</th>\n",
       "      <th></th>\n",
       "      <th></th>\n",
       "      <th></th>\n",
       "      <th></th>\n",
       "      <th></th>\n",
       "      <th></th>\n",
       "      <th></th>\n",
       "      <th></th>\n",
       "      <th></th>\n",
       "      <th></th>\n",
       "    </tr>\n",
       "  </thead>\n",
       "  <tbody>\n",
       "    <tr>\n",
       "      <th>1</th>\n",
       "      <td>SDS\\2019\\VG\\IJEN\\EHZ.D\\VG.IJEN.00.EHZ.D.2019.001</td>\n",
       "      <td>IJEN_EHZ_VG_00</td>\n",
       "      <td>2019-01-01</td>\n",
       "      <td>100.0</td>\n",
       "      <td>14331.0</td>\n",
       "      <td>99.31</td>\n",
       "      <td>6418432</td>\n",
       "      <td>2023-04-06T08:09:17+00:00</td>\n",
       "      <td>2023-04-06T08:32:51+00:00</td>\n",
       "      <td>None</td>\n",
       "    </tr>\n",
       "    <tr>\n",
       "      <th>2</th>\n",
       "      <td>SDS\\2019\\VG\\KWUI\\EHZ.D\\VG.KWUI.00.EHZ.D.2019.001</td>\n",
       "      <td>KWUI_EHZ_VG_00</td>\n",
       "      <td>2019-01-01</td>\n",
       "      <td>100.0</td>\n",
       "      <td>2113.0</td>\n",
       "      <td>99.31</td>\n",
       "      <td>4104192</td>\n",
       "      <td>2023-04-06T08:09:18+00:00</td>\n",
       "      <td>2023-04-06T08:32:54+00:00</td>\n",
       "      <td>None</td>\n",
       "    </tr>\n",
       "    <tr>\n",
       "      <th>3</th>\n",
       "      <td>SDS\\2019\\VG\\MLLR\\EHE.D\\VG.MLLR.00.EHE.D.2019.001</td>\n",
       "      <td>MLLR_EHE_VG_00</td>\n",
       "      <td>2019-01-01</td>\n",
       "      <td>100.0</td>\n",
       "      <td>1642.0</td>\n",
       "      <td>99.31</td>\n",
       "      <td>5324800</td>\n",
       "      <td>2023-04-06T08:09:19+00:00</td>\n",
       "      <td>2023-04-06T08:32:55+00:00</td>\n",
       "      <td>None</td>\n",
       "    </tr>\n",
       "    <tr>\n",
       "      <th>4</th>\n",
       "      <td>SDS\\2019\\VG\\MLLR\\EHZ.D\\VG.MLLR.00.EHZ.D.2019.001</td>\n",
       "      <td>MLLR_EHZ_VG_00</td>\n",
       "      <td>2019-01-01</td>\n",
       "      <td>100.0</td>\n",
       "      <td>2086.0</td>\n",
       "      <td>99.31</td>\n",
       "      <td>5324800</td>\n",
       "      <td>2023-04-06T08:09:20+00:00</td>\n",
       "      <td>2023-04-06T08:09:20+00:00</td>\n",
       "      <td>None</td>\n",
       "    </tr>\n",
       "    <tr>\n",
       "      <th>5</th>\n",
       "      <td>SDS\\2019\\VG\\MLTN\\EHZ.D\\VG.MLTN.00.EHZ.D.2019.001</td>\n",
       "      <td>MLTN_EHZ_VG_00</td>\n",
       "      <td>2019-01-01</td>\n",
       "      <td>100.0</td>\n",
       "      <td>7884.0</td>\n",
       "      <td>99.31</td>\n",
       "      <td>8630272</td>\n",
       "      <td>2023-04-06T08:09:20+00:00</td>\n",
       "      <td>2023-04-06T08:09:20+00:00</td>\n",
       "      <td>None</td>\n",
       "    </tr>\n",
       "    <tr>\n",
       "      <th>...</th>\n",
       "      <td>...</td>\n",
       "      <td>...</td>\n",
       "      <td>...</td>\n",
       "      <td>...</td>\n",
       "      <td>...</td>\n",
       "      <td>...</td>\n",
       "      <td>...</td>\n",
       "      <td>...</td>\n",
       "      <td>...</td>\n",
       "      <td>...</td>\n",
       "    </tr>\n",
       "    <tr>\n",
       "      <th>963</th>\n",
       "      <td>SDS\\2021\\VG\\POSI\\EHZ.D\\VG.POSI.00.EHZ.D.2021.050</td>\n",
       "      <td>POSI_EHZ_VG_00</td>\n",
       "      <td>2021-02-20</td>\n",
       "      <td>100.0</td>\n",
       "      <td>9540.0</td>\n",
       "      <td>100.00</td>\n",
       "      <td>10620928</td>\n",
       "      <td>2023-04-06T09:53:33+00:00</td>\n",
       "      <td>2023-04-06T09:53:33+00:00</td>\n",
       "      <td>None</td>\n",
       "    </tr>\n",
       "    <tr>\n",
       "      <th>964</th>\n",
       "      <td>SDS\\2021\\VG\\PTDI\\None.D\\VG.PTDI.00.None.D.2021...</td>\n",
       "      <td>PTDI_None_VG_00</td>\n",
       "      <td>2021-02-20</td>\n",
       "      <td>100.0</td>\n",
       "      <td>107467.0</td>\n",
       "      <td>100.00</td>\n",
       "      <td>13803520</td>\n",
       "      <td>2023-04-06T09:53:34+00:00</td>\n",
       "      <td>2023-04-06T09:53:35+00:00</td>\n",
       "      <td>None</td>\n",
       "    </tr>\n",
       "    <tr>\n",
       "      <th>965</th>\n",
       "      <td>SDS\\2021\\VG\\PTDI\\EHZ.D\\VG.PTDI.00.EHZ.D.2021.050</td>\n",
       "      <td>PTDI_EHZ_VG_00</td>\n",
       "      <td>2021-02-20</td>\n",
       "      <td>100.0</td>\n",
       "      <td>114288.0</td>\n",
       "      <td>100.00</td>\n",
       "      <td>13713408</td>\n",
       "      <td>2023-04-06T09:53:35+00:00</td>\n",
       "      <td>2023-04-06T09:53:35+00:00</td>\n",
       "      <td>None</td>\n",
       "    </tr>\n",
       "    <tr>\n",
       "      <th>966</th>\n",
       "      <td>SDS\\2021\\VG\\TRWI\\EHE.D\\VG.TRWI.00.EHE.D.2021.050</td>\n",
       "      <td>TRWI_EHE_VG_00</td>\n",
       "      <td>2021-02-20</td>\n",
       "      <td>100.0</td>\n",
       "      <td>14002.0</td>\n",
       "      <td>100.00</td>\n",
       "      <td>9740288</td>\n",
       "      <td>2023-04-06T09:53:36+00:00</td>\n",
       "      <td>2023-04-06T09:53:36+00:00</td>\n",
       "      <td>None</td>\n",
       "    </tr>\n",
       "    <tr>\n",
       "      <th>967</th>\n",
       "      <td>SDS\\2021\\VG\\TRWI\\EHZ.D\\VG.TRWI.00.EHZ.D.2021.050</td>\n",
       "      <td>TRWI_EHZ_VG_00</td>\n",
       "      <td>2021-02-20</td>\n",
       "      <td>100.0</td>\n",
       "      <td>13807.0</td>\n",
       "      <td>100.00</td>\n",
       "      <td>9150464</td>\n",
       "      <td>2023-04-06T09:53:37+00:00</td>\n",
       "      <td>2023-04-06T09:53:37+00:00</td>\n",
       "      <td>None</td>\n",
       "    </tr>\n",
       "  </tbody>\n",
       "</table>\n",
       "<p>967 rows × 10 columns</p>\n",
       "</div>"
      ],
      "text/plain": [
       "                                              filename             scnl  \\\n",
       "id                                                                        \n",
       "1     SDS\\2019\\VG\\IJEN\\EHZ.D\\VG.IJEN.00.EHZ.D.2019.001   IJEN_EHZ_VG_00   \n",
       "2     SDS\\2019\\VG\\KWUI\\EHZ.D\\VG.KWUI.00.EHZ.D.2019.001   KWUI_EHZ_VG_00   \n",
       "3     SDS\\2019\\VG\\MLLR\\EHE.D\\VG.MLLR.00.EHE.D.2019.001   MLLR_EHE_VG_00   \n",
       "4     SDS\\2019\\VG\\MLLR\\EHZ.D\\VG.MLLR.00.EHZ.D.2019.001   MLLR_EHZ_VG_00   \n",
       "5     SDS\\2019\\VG\\MLTN\\EHZ.D\\VG.MLTN.00.EHZ.D.2019.001   MLTN_EHZ_VG_00   \n",
       "..                                                 ...              ...   \n",
       "963   SDS\\2021\\VG\\POSI\\EHZ.D\\VG.POSI.00.EHZ.D.2021.050   POSI_EHZ_VG_00   \n",
       "964  SDS\\2021\\VG\\PTDI\\None.D\\VG.PTDI.00.None.D.2021...  PTDI_None_VG_00   \n",
       "965   SDS\\2021\\VG\\PTDI\\EHZ.D\\VG.PTDI.00.EHZ.D.2021.050   PTDI_EHZ_VG_00   \n",
       "966   SDS\\2021\\VG\\TRWI\\EHE.D\\VG.TRWI.00.EHE.D.2021.050   TRWI_EHE_VG_00   \n",
       "967   SDS\\2021\\VG\\TRWI\\EHZ.D\\VG.TRWI.00.EHZ.D.2021.050   TRWI_EHZ_VG_00   \n",
       "\n",
       "           date  sampling_rate  max_amplitude  availability  filesize  \\\n",
       "id                                                                      \n",
       "1    2019-01-01          100.0        14331.0         99.31   6418432   \n",
       "2    2019-01-01          100.0         2113.0         99.31   4104192   \n",
       "3    2019-01-01          100.0         1642.0         99.31   5324800   \n",
       "4    2019-01-01          100.0         2086.0         99.31   5324800   \n",
       "5    2019-01-01          100.0         7884.0         99.31   8630272   \n",
       "..          ...            ...            ...           ...       ...   \n",
       "963  2021-02-20          100.0         9540.0        100.00  10620928   \n",
       "964  2021-02-20          100.0       107467.0        100.00  13803520   \n",
       "965  2021-02-20          100.0       114288.0        100.00  13713408   \n",
       "966  2021-02-20          100.0        14002.0        100.00   9740288   \n",
       "967  2021-02-20          100.0        13807.0        100.00   9150464   \n",
       "\n",
       "                    created_at                 updated_at deleted_at  \n",
       "id                                                                    \n",
       "1    2023-04-06T08:09:17+00:00  2023-04-06T08:32:51+00:00       None  \n",
       "2    2023-04-06T08:09:18+00:00  2023-04-06T08:32:54+00:00       None  \n",
       "3    2023-04-06T08:09:19+00:00  2023-04-06T08:32:55+00:00       None  \n",
       "4    2023-04-06T08:09:20+00:00  2023-04-06T08:09:20+00:00       None  \n",
       "5    2023-04-06T08:09:20+00:00  2023-04-06T08:09:20+00:00       None  \n",
       "..                         ...                        ...        ...  \n",
       "963  2023-04-06T09:53:33+00:00  2023-04-06T09:53:33+00:00       None  \n",
       "964  2023-04-06T09:53:34+00:00  2023-04-06T09:53:35+00:00       None  \n",
       "965  2023-04-06T09:53:35+00:00  2023-04-06T09:53:35+00:00       None  \n",
       "966  2023-04-06T09:53:36+00:00  2023-04-06T09:53:36+00:00       None  \n",
       "967  2023-04-06T09:53:37+00:00  2023-04-06T09:53:37+00:00       None  \n",
       "\n",
       "[967 rows x 10 columns]"
      ]
     },
     "execution_count": 5,
     "metadata": {},
     "output_type": "execute_result"
    }
   ],
   "source": [
    "df.set_index('id')"
   ]
  },
  {
   "cell_type": "code",
   "execution_count": 6,
   "id": "422e824e-4838-467a-a79a-56a93508c9d7",
   "metadata": {},
   "outputs": [],
   "source": [
    "# df.to_excel('data_availabilty.xlsx')"
   ]
  },
  {
   "cell_type": "markdown",
   "id": "6917da7a-8aaf-4862-b1c2-04e876d9026f",
   "metadata": {},
   "source": [
    "Get configuration file from `config/config.py`"
   ]
  },
  {
   "cell_type": "code",
   "execution_count": 7,
   "id": "3b18d598-4f2b-4343-b1d4-869f6a594c25",
   "metadata": {},
   "outputs": [],
   "source": [
    "config = Configuration().get()"
   ]
  },
  {
   "cell_type": "code",
   "execution_count": 8,
   "id": "79ffedd9-1bac-4775-a595-95683ccf0f1a",
   "metadata": {},
   "outputs": [
    {
     "data": {
      "application/json": {
       "channels": [],
       "converted_directory": "E:\\Tesis\\Output\\Converted",
       "cpu_used": 4,
       "dayplot_directory": "E:\\Tesis\\Output\\Dayplots",
       "default": "ijen",
       "end_date": "2021-12-31T00:00:00Z",
       "index_directory": "E:\\Tesis\\Output\\Index",
       "input_directory": "F:\\Data\\Seismik Ijen",
       "output_directory": "E:\\Tesis\\Output",
       "save_to_database": 1,
       "spectogram_directory": "E:\\Tesis\\Output\\Spectogram",
       "start_date": "2019-01-01T00:00:00Z",
       "type": {
        "default": {
         "end_date": "2017-12-31",
         "input_directory": "E:\\Tesis\\Input\\continuous\\seisan",
         "start_date": "2017-10-18"
        },
        "idds": {
         "end_date": "2017-12-31",
         "input_directory": "E:\\Tesis\\",
         "start_date": "2017-09-01"
        },
        "ijen": {
         "end_date": "2021-12-31",
         "input_directory": "F:\\Data\\Seismik Ijen",
         "start_date": "2019-01-01"
        },
        "itb": {
         "end_date": "2019-08-31",
         "input_directory": "G:\\Data-Gunung-Agung_dari-Dian\\Termin-1\\DATA BALI",
         "start_date": "2018-12-22"
        },
        "sac": {
         "channels": [
          "BCSZ",
          "CLKX",
          "CLKY",
          "CLKZ"
         ],
         "end_date": "2014-03-01",
         "input_directory": "F:\\Continuous",
         "start_date": "2013-09-11"
        },
        "sds": {
         "end_date": "2020-11-30",
         "input_directory": "G:\\Output\\Converted\\SDS",
         "start_date": "2020-09-01",
         "stations": [
          "ac60h",
          "ac61h",
          "ac62h",
          "ac63h",
          "ac64h",
          "ac65h",
          "ac66h",
          "ac67h",
          "ac68h",
          "ac69h",
          "ac6ah",
          "ac70h",
          "ac73h",
          "ac74h",
          "ac75h"
         ]
        },
        "win_sinabung": {
         "end_date": "2020-09-30",
         "input_directory": "H:\\input\\novi",
         "start_date": "2020-09-01",
         "stations": {
          "ac60": {
           "channel": "EHZ",
           "station": "ac60h"
          },
          "ac61": {
           "channel": "EHZ",
           "station": "ac61h"
          },
          "ac62": {
           "channel": "EHZ",
           "station": "ac62h"
          },
          "ac63": {
           "channel": "EHZ",
           "station": "ac63h"
          },
          "ac64": {
           "channel": "EHZ",
           "station": "ac64h"
          },
          "ac65": {
           "channel": "EHZ",
           "station": "ac65h"
          },
          "ac66": {
           "channel": "EHZ",
           "station": "ac66h"
          },
          "ac67": {
           "channel": "EHZ",
           "station": "ac67h"
          },
          "ac68": {
           "channel": "EHZ",
           "station": "ac68h"
          },
          "ac69": {
           "channel": "EHZ",
           "station": "ac69h"
          },
          "ac6a": {
           "channel": "EHZ",
           "station": "ac6ah"
          },
          "ac70": {
           "channel": "EHZ",
           "station": "ac70h"
          },
          "ac73": {
           "channel": "EHZ",
           "station": "ac73h"
          },
          "ac74": {
           "channel": "EHZ",
           "station": "ac74h"
          },
          "ac75": {
           "channel": "EHZ",
           "station": "ac75h"
          }
         }
        }
       }
      },
      "text/plain": [
       "<IPython.core.display.JSON object>"
      ]
     },
     "execution_count": 8,
     "metadata": {
      "application/json": {
       "expanded": false,
       "root": "root"
      }
     },
     "output_type": "execute_result"
    }
   ],
   "source": [
    "JSON(config)"
   ]
  },
  {
   "cell_type": "markdown",
   "id": "e501fe27-582c-4ca5-aee5-5d4d57b77c0b",
   "metadata": {},
   "source": [
    "Convert to `mseed`"
   ]
  },
  {
   "cell_type": "code",
   "execution_count": 9,
   "id": "3c4926f3-cf40-4e3a-82bc-407a8aeed530",
   "metadata": {},
   "outputs": [
    {
     "name": "stdout",
     "output_type": "stream",
     "text": [
      "Reading configuration....\n",
      "=== USE multiprocessing ===\n",
      "Duration: 0:54:16.862870\n"
     ]
    }
   ],
   "source": [
    "start_time = datetime.datetime.now()\n",
    "\n",
    "Convert(\n",
    "    save_to_database=True,\n",
    "    save_to_csv=False,\n",
    "    save_dayplot=True,\n",
    "    save_spectogram=False\n",
    ").to_mseed()\n",
    "\n",
    "end_time = datetime.datetime.now()\n",
    "\n",
    "print('Duration: {}'.format(end_time - start_time))"
   ]
  },
  {
   "cell_type": "code",
   "execution_count": null,
   "id": "55d3b44d-d185-4bcd-95b0-7c662b82cb90",
   "metadata": {},
   "outputs": [],
   "source": []
  }
 ],
 "metadata": {
  "kernelspec": {
   "display_name": "Python 3 (ipykernel)",
   "language": "python",
   "name": "python3"
  },
  "language_info": {
   "codemirror_mode": {
    "name": "ipython",
    "version": 3
   },
   "file_extension": ".py",
   "mimetype": "text/x-python",
   "name": "python",
   "nbconvert_exporter": "python",
   "pygments_lexer": "ipython3",
   "version": "3.8.16"
  }
 },
 "nbformat": 4,
 "nbformat_minor": 5
}
