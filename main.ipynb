{
 "cells": [
  {
   "cell_type": "code",
   "execution_count": 6,
   "id": "b2b24f72-f6b1-468a-b64d-0d99bca4232e",
   "metadata": {},
   "outputs": [],
   "source": [
    "import os\n",
    "import datetime\n",
    "import pandas as pd\n",
    "from IPython.display import JSON\n",
    "from models.SeismicData import SeismicData\n",
    "from config.config import Configuration\n",
    "from cores.files import Files\n",
    "from cores.convert import Convert\n",
    "from obspy import read\n",
    "from obspy.clients.filesystem.sds import Client"
   ]
  },
  {
   "cell_type": "code",
   "execution_count": 10,
   "id": "fece8415-722a-413f-97a0-899e5308ff6d",
   "metadata": {},
   "outputs": [
    {
     "name": "stderr",
     "output_type": "stream",
     "text": [
      "<>:1: DeprecationWarning: invalid escape sequence \\T\n",
      "<>:1: DeprecationWarning: invalid escape sequence \\T\n",
      "C:\\Users\\Anto\\AppData\\Local\\Temp\\ipykernel_22840\\1288147417.py:1: DeprecationWarning: invalid escape sequence \\T\n",
      "  client = Client(\"E:\\Tesis\\Output\\Converted\\SDS\")\n"
     ]
    }
   ],
   "source": [
    "client = Client(\"E:\\Tesis\\Output\\Converted\\SDS\")"
   ]
  },
  {
   "cell_type": "code",
   "execution_count": 11,
   "id": "9acff2c3-43bf-4562-b861-553e78733727",
   "metadata": {},
   "outputs": [
    {
     "data": {
      "text/plain": [
       "[('VG', 'EMP', '00', 'EHZ'),\n",
       " ('VG', 'IJEN', '00', 'EHZ'),\n",
       " ('VG', 'KIN', '00', 'EHZ'),\n",
       " ('VG', 'KWUI', '00', 'EHZ'),\n",
       " ('VG', 'MAH', '00', 'EHZ'),\n",
       " ('VG', 'MLLR', '00', 'EHE'),\n",
       " ('VG', 'MLLR', '00', 'EHZ'),\n",
       " ('VG', 'MLTN', '00', 'EHZ'),\n",
       " ('VG', 'POSI', '00', 'EHZ'),\n",
       " ('VG', 'PTDI', '00', 'EHZ'),\n",
       " ('VG', 'PTDI', '00', 'None'),\n",
       " ('VG', 'RAUN', '00', 'EHZ'),\n",
       " ('VG', 'TRWI', '00', 'EHE'),\n",
       " ('VG', 'TRWI', '00', 'EHZ')]"
      ]
     },
     "execution_count": 11,
     "metadata": {},
     "output_type": "execute_result"
    }
   ],
   "source": [
    "client.get_all_nslc()"
   ]
  },
  {
   "cell_type": "markdown",
   "id": "9d9f2931-9333-4906-a8a6-1bed1185ad11",
   "metadata": {},
   "source": [
    "Get current working directory"
   ]
  },
  {
   "cell_type": "code",
   "execution_count": 2,
   "id": "6e66b65d-b349-4ef4-881f-dc2795e9f111",
   "metadata": {},
   "outputs": [
    {
     "name": "stdout",
     "output_type": "stream",
     "text": [
      "E:\\Projects\\another-converter\n"
     ]
    }
   ],
   "source": [
    "print(os.getcwd())"
   ]
  },
  {
   "cell_type": "markdown",
   "id": "d69687f8-4413-4d0f-b33b-bef6d0833c1b",
   "metadata": {},
   "source": [
    "Check `seismics` table "
   ]
  },
  {
   "cell_type": "code",
   "execution_count": null,
   "id": "d96f4071-1122-45f2-8f97-df381071f925",
   "metadata": {},
   "outputs": [],
   "source": [
    "stations = SeismicData.all()"
   ]
  },
  {
   "cell_type": "code",
   "execution_count": null,
   "id": "3acd3bce-3dc4-4d76-9756-26301638bce1",
   "metadata": {},
   "outputs": [],
   "source": [
    "df = pd.DataFrame(stations.serialize())"
   ]
  },
  {
   "cell_type": "code",
   "execution_count": null,
   "id": "57b23e43-f23d-4ec3-a3ef-8652832fce58",
   "metadata": {},
   "outputs": [],
   "source": [
    "df.set_index('id')"
   ]
  },
  {
   "cell_type": "code",
   "execution_count": null,
   "id": "422e824e-4838-467a-a79a-56a93508c9d7",
   "metadata": {},
   "outputs": [],
   "source": [
    "# df.to_excel('data_availabilty.xlsx')"
   ]
  },
  {
   "cell_type": "markdown",
   "id": "6917da7a-8aaf-4862-b1c2-04e876d9026f",
   "metadata": {},
   "source": [
    "Get configuration file from `config/config.py`"
   ]
  },
  {
   "cell_type": "code",
   "execution_count": 3,
   "id": "3b18d598-4f2b-4343-b1d4-869f6a594c25",
   "metadata": {},
   "outputs": [],
   "source": [
    "config = Configuration().get()"
   ]
  },
  {
   "cell_type": "code",
   "execution_count": 4,
   "id": "79ffedd9-1bac-4775-a595-95683ccf0f1a",
   "metadata": {},
   "outputs": [
    {
     "data": {
      "application/json": {
       "channels": [],
       "converted_directory": "E:\\Tesis\\Output\\Converted",
       "cpu_used": 1,
       "dayplot_directory": "E:\\Tesis\\Output\\Dayplots",
       "default": "lokon",
       "end_date": "2023-06-13T00:00:00Z",
       "index_directory": "E:\\Tesis\\Output\\Index",
       "input_directory": "E:\\Downloads\\Seismik",
       "output_directory": "E:\\Tesis\\Output",
       "save_to_database": 0,
       "spectogram_directory": "E:\\Tesis\\Output\\Spectogram",
       "start_date": "2023-06-13T00:00:00Z",
       "stations": [
        "EMP",
        "MAH",
        "KIN"
       ],
       "type": {
        "default": {
         "end_date": "2017-12-31",
         "input_directory": "E:\\Tesis\\Input\\continuous\\seisan",
         "start_date": "2017-10-18"
        },
        "idds": {
         "end_date": "2017-12-31",
         "input_directory": "E:\\Tesis\\",
         "start_date": "2017-09-01"
        },
        "ijen": {
         "end_date": "2021-12-31",
         "input_directory": "F:\\Data\\Seismik Ijen",
         "start_date": "2019-01-01"
        },
        "itb": {
         "end_date": "2019-08-31",
         "input_directory": "G:\\Data-Gunung-Agung_dari-Dian\\Termin-1\\DATA BALI",
         "start_date": "2018-12-22"
        },
        "lokon": {
         "end_date": "2023-06-13",
         "input_directory": "E:\\Downloads\\Seismik",
         "start_date": "2023-06-13",
         "stations": [
          "EMP",
          "MAH",
          "KIN"
         ]
        },
        "sac": {
         "channels": [
          "BCSZ",
          "CLKX",
          "CLKY",
          "CLKZ"
         ],
         "end_date": "2014-03-01",
         "input_directory": "F:\\Continuous",
         "start_date": "2013-09-11"
        },
        "sds": {
         "end_date": "2020-11-30",
         "input_directory": "G:\\Output\\Converted\\SDS",
         "start_date": "2020-09-01"
        },
        "win_sinabung": {
         "end_date": "2020-09-30",
         "input_directory": "H:\\input\\novi",
         "start_date": "2020-09-01",
         "stations": {
          "ac60": {
           "channel": "EHZ",
           "station": "ac60h"
          },
          "ac61": {
           "channel": "EHZ",
           "station": "ac61h"
          },
          "ac62": {
           "channel": "EHZ",
           "station": "ac62h"
          },
          "ac63": {
           "channel": "EHZ",
           "station": "ac63h"
          },
          "ac64": {
           "channel": "EHZ",
           "station": "ac64h"
          },
          "ac65": {
           "channel": "EHZ",
           "station": "ac65h"
          },
          "ac66": {
           "channel": "EHZ",
           "station": "ac66h"
          },
          "ac67": {
           "channel": "EHZ",
           "station": "ac67h"
          },
          "ac68": {
           "channel": "EHZ",
           "station": "ac68h"
          },
          "ac69": {
           "channel": "EHZ",
           "station": "ac69h"
          },
          "ac6a": {
           "channel": "EHZ",
           "station": "ac6ah"
          },
          "ac70": {
           "channel": "EHZ",
           "station": "ac70h"
          },
          "ac73": {
           "channel": "EHZ",
           "station": "ac73h"
          },
          "ac74": {
           "channel": "EHZ",
           "station": "ac74h"
          },
          "ac75": {
           "channel": "EHZ",
           "station": "ac75h"
          }
         }
        }
       }
      },
      "text/plain": [
       "<IPython.core.display.JSON object>"
      ]
     },
     "execution_count": 4,
     "metadata": {
      "application/json": {
       "expanded": false,
       "root": "root"
      }
     },
     "output_type": "execute_result"
    }
   ],
   "source": [
    "JSON(config)"
   ]
  },
  {
   "cell_type": "code",
   "execution_count": null,
   "id": "7153aabf-64e1-416d-a346-ba5f9bd7aaf9",
   "metadata": {},
   "outputs": [],
   "source": [
    "stream = Files().get(date='2023-06-13', search='lokon')"
   ]
  },
  {
   "cell_type": "code",
   "execution_count": null,
   "id": "96c3b7d2-dff1-46cd-b237-b9bc684c2409",
   "metadata": {},
   "outputs": [],
   "source": [
    "stream"
   ]
  },
  {
   "cell_type": "markdown",
   "id": "e501fe27-582c-4ca5-aee5-5d4d57b77c0b",
   "metadata": {},
   "source": [
    "Convert to `mseed`"
   ]
  },
  {
   "cell_type": "code",
   "execution_count": 5,
   "id": "3c4926f3-cf40-4e3a-82bc-407a8aeed530",
   "metadata": {},
   "outputs": [
    {
     "name": "stdout",
     "output_type": "stream",
     "text": [
      "Reading configuration....\n",
      "USE single processing\n",
      "==================================\n",
      "Converting date: 2023-06-13 00:00:00+00:00\n",
      "==================================\n",
      "VG.EMP.00.EHZ | 2023-06-13T00:00:00.000000Z - 2023-06-13T23:09:59.990000Z | 100.0 Hz, 8340000 samples\n",
      ">> Output : E:\\Tesis\\Output\\Converted\\SDS\\2023\\VG\\EMP\\EHZ.D\\VG.EMP.00.EHZ.D.2023.164\n",
      "VG.MAH.00.EHZ | 2023-06-13T00:00:00.000000Z - 2023-06-13T23:09:59.990000Z | 100.0 Hz, 8340000 samples\n",
      ">> Output : E:\\Tesis\\Output\\Converted\\SDS\\2023\\VG\\MAH\\EHZ.D\\VG.MAH.00.EHZ.D.2023.164\n",
      "VG.KIN.00.EHZ | 2023-06-13T00:00:00.000000Z - 2023-06-13T23:09:59.990000Z | 100.0 Hz, 8340000 samples\n",
      ">> Output : E:\\Tesis\\Output\\Converted\\SDS\\2023\\VG\\KIN\\EHZ.D\\VG.KIN.00.EHZ.D.2023.164\n",
      ":: 2023-06-13 DONE!!\n",
      "Duration: 0:00:05.510736\n"
     ]
    }
   ],
   "source": [
    "start_time = datetime.datetime.now()\n",
    "\n",
    "Convert(\n",
    "    save_to_database=False,\n",
    "    save_to_csv=False,\n",
    "    save_dayplot=True,\n",
    "    save_spectogram=False\n",
    ").to_mseed()\n",
    "\n",
    "end_time = datetime.datetime.now()\n",
    "\n",
    "print('Duration: {}'.format(end_time - start_time))"
   ]
  },
  {
   "cell_type": "code",
   "execution_count": null,
   "id": "55d3b44d-d185-4bcd-95b0-7c662b82cb90",
   "metadata": {},
   "outputs": [],
   "source": []
  }
 ],
 "metadata": {
  "kernelspec": {
   "display_name": "Python 3 (ipykernel)",
   "language": "python",
   "name": "python3"
  },
  "language_info": {
   "codemirror_mode": {
    "name": "ipython",
    "version": 3
   },
   "file_extension": ".py",
   "mimetype": "text/x-python",
   "name": "python",
   "nbconvert_exporter": "python",
   "pygments_lexer": "ipython3",
   "version": "3.8.16"
  }
 },
 "nbformat": 4,
 "nbformat_minor": 5
}
