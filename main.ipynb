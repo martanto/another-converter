{
 "cells": [
  {
   "cell_type": "code",
   "execution_count": null,
   "id": "b2b24f72-f6b1-468a-b64d-0d99bca4232e",
   "metadata": {
    "editable": true,
    "slideshow": {
     "slide_type": ""
    },
    "tags": []
   },
   "outputs": [],
   "source": [
    "import datetime\n",
    "from cores.convert import Convert"
   ]
  },
  {
   "cell_type": "code",
   "execution_count": null,
   "id": "3c4926f3-cf40-4e3a-82bc-407a8aeed530",
   "metadata": {
    "editable": true,
    "slideshow": {
     "slide_type": ""
    },
    "tags": []
   },
   "outputs": [],
   "source": [
    "start_time = datetime.datetime.now()\n",
    "\n",
    "Convert(\n",
    "    save_to_database=True,\n",
    "    save_to_csv=True,\n",
    "    save_dayplot=True,\n",
    ").to_mseed()\n",
    "\n",
    "end_time = datetime.datetime.now()\n",
    "\n",
    "print('Duration: {}'.format(end_time - start_time))"
   ]
  },
  {
   "cell_type": "code",
   "execution_count": null,
   "id": "f6fdea79-3558-4a4d-beb6-55451a1f3f12",
   "metadata": {},
   "outputs": [],
   "source": [
    "stream = read('E:\\\\Tesis\\\\Output\\\\Converted\\\\SDS\\\\2023\\\\VG\\\\EMP\\\\EHZ.D\\\\VG.EMP.00.EHZ.D.2023.010')"
   ]
  },
  {
   "cell_type": "code",
   "execution_count": null,
   "id": "e041f64e-60b8-4809-b023-a0cbfefff2b5",
   "metadata": {},
   "outputs": [],
   "source": [
    "# migration_directory = os.path.join(os.getcwd(), 'databases', 'migrations')\n",
    "# config_path = os.path.join(os.getcwd(), 'config', 'database.py')\n",
    "\n",
    "# print(config_path)"
   ]
  },
  {
   "cell_type": "code",
   "execution_count": null,
   "id": "e427734c-889d-4ec0-93fb-78fc18f13a94",
   "metadata": {},
   "outputs": [],
   "source": [
    "# migration = Migration(\n",
    "#     migration_directory=migration_directory,\n",
    "#     connection=\"mysql\",\n",
    "# )"
   ]
  },
  {
   "cell_type": "code",
   "execution_count": null,
   "id": "562c822c-16a0-4c91-a611-09f1c153b228",
   "metadata": {},
   "outputs": [],
   "source": [
    "# migration.migrate()"
   ]
  },
  {
   "cell_type": "code",
   "execution_count": null,
   "id": "80cb31d7-41d0-47a4-b3e4-412ad85f7deb",
   "metadata": {},
   "outputs": [],
   "source": [
    "os.system(\"masonite-orm migrate\")"
   ]
  },
  {
   "cell_type": "markdown",
   "id": "9d9f2931-9333-4906-a8a6-1bed1185ad11",
   "metadata": {},
   "source": [
    "Get current working directory"
   ]
  },
  {
   "cell_type": "code",
   "execution_count": null,
   "id": "6e66b65d-b349-4ef4-881f-dc2795e9f111",
   "metadata": {},
   "outputs": [],
   "source": [
    "print(os.getcwd())"
   ]
  },
  {
   "cell_type": "markdown",
   "id": "d69687f8-4413-4d0f-b33b-bef6d0833c1b",
   "metadata": {},
   "source": [
    "Check `seismics` table "
   ]
  },
  {
   "cell_type": "code",
   "execution_count": null,
   "id": "d96f4071-1122-45f2-8f97-df381071f925",
   "metadata": {},
   "outputs": [],
   "source": [
    "stations = SeismicChannel.all()"
   ]
  },
  {
   "cell_type": "code",
   "execution_count": null,
   "id": "3acd3bce-3dc4-4d76-9756-26301638bce1",
   "metadata": {},
   "outputs": [],
   "source": [
    "df = pd.DataFrame(stations.serialize())"
   ]
  },
  {
   "cell_type": "code",
   "execution_count": null,
   "id": "57b23e43-f23d-4ec3-a3ef-8652832fce58",
   "metadata": {},
   "outputs": [],
   "source": [
    "df.set_index('id')"
   ]
  },
  {
   "cell_type": "code",
   "execution_count": null,
   "id": "422e824e-4838-467a-a79a-56a93508c9d7",
   "metadata": {},
   "outputs": [],
   "source": [
    "# df.to_excel('data_availabilty.xlsx')"
   ]
  },
  {
   "cell_type": "markdown",
   "id": "6917da7a-8aaf-4862-b1c2-04e876d9026f",
   "metadata": {},
   "source": [
    "Get configuration file from `config/config.py`"
   ]
  },
  {
   "cell_type": "code",
   "execution_count": null,
   "id": "3b18d598-4f2b-4343-b1d4-869f6a594c25",
   "metadata": {},
   "outputs": [],
   "source": [
    "config = Configuration().get()"
   ]
  },
  {
   "cell_type": "code",
   "execution_count": null,
   "id": "79ffedd9-1bac-4775-a595-95683ccf0f1a",
   "metadata": {},
   "outputs": [],
   "source": [
    "JSON(config)"
   ]
  },
  {
   "cell_type": "code",
   "execution_count": null,
   "id": "7153aabf-64e1-416d-a346-ba5f9bd7aaf9",
   "metadata": {},
   "outputs": [],
   "source": [
    "# stream = Files().get(date='2023-06-13', search='lokon')"
   ]
  },
  {
   "cell_type": "code",
   "execution_count": null,
   "id": "96c3b7d2-dff1-46cd-b237-b9bc684c2409",
   "metadata": {},
   "outputs": [],
   "source": [
    "# stream"
   ]
  },
  {
   "cell_type": "markdown",
   "id": "e501fe27-582c-4ca5-aee5-5d4d57b77c0b",
   "metadata": {},
   "source": [
    "Convert to `mseed`"
   ]
  },
  {
   "cell_type": "code",
   "execution_count": null,
   "id": "cc1f9334-1e47-48fe-b468-5f1ad9f5bd58",
   "metadata": {
    "editable": true,
    "slideshow": {
     "slide_type": ""
    },
    "tags": []
   },
   "outputs": [],
   "source": []
  }
 ],
 "metadata": {
  "kernelspec": {
   "display_name": "Python 3 (ipykernel)",
   "language": "python",
   "name": "python3"
  },
  "language_info": {
   "codemirror_mode": {
    "name": "ipython",
    "version": 3
   },
   "file_extension": ".py",
   "mimetype": "text/x-python",
   "name": "python",
   "nbconvert_exporter": "python",
   "pygments_lexer": "ipython3",
   "version": "3.8.16"
  }
 },
 "nbformat": 4,
 "nbformat_minor": 5
}
