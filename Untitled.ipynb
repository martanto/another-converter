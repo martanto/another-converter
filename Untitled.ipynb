{
 "cells": [
  {
   "cell_type": "code",
   "execution_count": 1,
   "id": "ee4ac80b-1fe6-4a4b-8f9d-8e46a2ac9741",
   "metadata": {},
   "outputs": [],
   "source": [
    "import os\n",
    "from glob import glob\n",
    "import re"
   ]
  },
  {
   "cell_type": "code",
   "execution_count": 2,
   "id": "faca9f42-c338-42aa-b130-eea537f59430",
   "metadata": {},
   "outputs": [],
   "source": [
    "sac_dir = 'L:\\\\Anak Krakatau\\\\SAC'"
   ]
  },
  {
   "cell_type": "code",
   "execution_count": 7,
   "id": "3a7b96f5-aa30-4c69-85d6-3079056fdabd",
   "metadata": {},
   "outputs": [
    {
     "data": {
      "text/plain": [
       "'L:\\\\Anak Krakatau\\\\SAC\\\\201801\\\\20180101*\\\\INFR*'"
      ]
     },
     "execution_count": 7,
     "metadata": {},
     "output_type": "execute_result"
    }
   ],
   "source": [
    "directory = os.path.join(sac_dir,'201801','20180101*','INFR*')\n",
    "directory"
   ]
  },
  {
   "cell_type": "code",
   "execution_count": 8,
   "id": "b712ba67-f70c-44b7-a697-c84af51bf494",
   "metadata": {},
   "outputs": [],
   "source": [
    "mseeds = [mseed for mseed in glob(directory)]"
   ]
  },
  {
   "cell_type": "code",
   "execution_count": 9,
   "id": "df6d5fc1-1efd-4755-8e06-80ebeef27e31",
   "metadata": {},
   "outputs": [
    {
     "data": {
      "text/plain": [
       "144"
      ]
     },
     "execution_count": 9,
     "metadata": {},
     "output_type": "execute_result"
    }
   ],
   "source": [
    "len(mseeds)"
   ]
  },
  {
   "cell_type": "code",
   "execution_count": 10,
   "id": "cf6feaa0-225d-4e45-ab78-a18ab2b958b9",
   "metadata": {
    "tags": []
   },
   "outputs": [
    {
     "data": {
      "text/plain": [
       "['L:\\\\Anak Krakatau\\\\SAC\\\\201801\\\\20180101_000000_MAN\\\\INFR.EHZ.KR.--',\n",
       " 'L:\\\\Anak Krakatau\\\\SAC\\\\201801\\\\20180101_001000_MAN\\\\INFR.EHZ.KR.--',\n",
       " 'L:\\\\Anak Krakatau\\\\SAC\\\\201801\\\\20180101_002000_MAN\\\\INFR.EHZ.KR.--',\n",
       " 'L:\\\\Anak Krakatau\\\\SAC\\\\201801\\\\20180101_003000_MAN\\\\INFR.EHZ.KR.--',\n",
       " 'L:\\\\Anak Krakatau\\\\SAC\\\\201801\\\\20180101_004000_MAN\\\\INFR.EHZ.KR.--',\n",
       " 'L:\\\\Anak Krakatau\\\\SAC\\\\201801\\\\20180101_005000_MAN\\\\INFR.EHZ.KR.--',\n",
       " 'L:\\\\Anak Krakatau\\\\SAC\\\\201801\\\\20180101_010000_MAN\\\\INFR.EHZ.KR.--',\n",
       " 'L:\\\\Anak Krakatau\\\\SAC\\\\201801\\\\20180101_011000_MAN\\\\INFR.EHZ.KR.--',\n",
       " 'L:\\\\Anak Krakatau\\\\SAC\\\\201801\\\\20180101_012000_MAN\\\\INFR.EHZ.KR.--',\n",
       " 'L:\\\\Anak Krakatau\\\\SAC\\\\201801\\\\20180101_013000_MAN\\\\INFR.EHZ.KR.--',\n",
       " 'L:\\\\Anak Krakatau\\\\SAC\\\\201801\\\\20180101_014000_MAN\\\\INFR.EHZ.KR.--',\n",
       " 'L:\\\\Anak Krakatau\\\\SAC\\\\201801\\\\20180101_015000_MAN\\\\INFR.EHZ.KR.--',\n",
       " 'L:\\\\Anak Krakatau\\\\SAC\\\\201801\\\\20180101_020000_MAN\\\\INFR.EHZ.KR.--',\n",
       " 'L:\\\\Anak Krakatau\\\\SAC\\\\201801\\\\20180101_021000_MAN\\\\INFR.EHZ.KR.--',\n",
       " 'L:\\\\Anak Krakatau\\\\SAC\\\\201801\\\\20180101_022000_MAN\\\\INFR.EHZ.KR.--',\n",
       " 'L:\\\\Anak Krakatau\\\\SAC\\\\201801\\\\20180101_023000_MAN\\\\INFR.EHZ.KR.--',\n",
       " 'L:\\\\Anak Krakatau\\\\SAC\\\\201801\\\\20180101_024000_MAN\\\\INFR.EHZ.KR.--',\n",
       " 'L:\\\\Anak Krakatau\\\\SAC\\\\201801\\\\20180101_025000_MAN\\\\INFR.EHZ.KR.--',\n",
       " 'L:\\\\Anak Krakatau\\\\SAC\\\\201801\\\\20180101_030000_MAN\\\\INFR.EHZ.KR.--',\n",
       " 'L:\\\\Anak Krakatau\\\\SAC\\\\201801\\\\20180101_031000_MAN\\\\INFR.EHZ.KR.--',\n",
       " 'L:\\\\Anak Krakatau\\\\SAC\\\\201801\\\\20180101_032000_MAN\\\\INFR.EHZ.KR.--',\n",
       " 'L:\\\\Anak Krakatau\\\\SAC\\\\201801\\\\20180101_033000_MAN\\\\INFR.EHZ.KR.--',\n",
       " 'L:\\\\Anak Krakatau\\\\SAC\\\\201801\\\\20180101_034000_MAN\\\\INFR.EHZ.KR.--',\n",
       " 'L:\\\\Anak Krakatau\\\\SAC\\\\201801\\\\20180101_035000_MAN\\\\INFR.EHZ.KR.--',\n",
       " 'L:\\\\Anak Krakatau\\\\SAC\\\\201801\\\\20180101_040000_MAN\\\\INFR.EHZ.KR.--',\n",
       " 'L:\\\\Anak Krakatau\\\\SAC\\\\201801\\\\20180101_041000_MAN\\\\INFR.EHZ.KR.--',\n",
       " 'L:\\\\Anak Krakatau\\\\SAC\\\\201801\\\\20180101_042000_MAN\\\\INFR.EHZ.KR.--',\n",
       " 'L:\\\\Anak Krakatau\\\\SAC\\\\201801\\\\20180101_043000_MAN\\\\INFR.EHZ.KR.--',\n",
       " 'L:\\\\Anak Krakatau\\\\SAC\\\\201801\\\\20180101_044000_MAN\\\\INFR.EHZ.KR.--',\n",
       " 'L:\\\\Anak Krakatau\\\\SAC\\\\201801\\\\20180101_045000_MAN\\\\INFR.EHZ.KR.--',\n",
       " 'L:\\\\Anak Krakatau\\\\SAC\\\\201801\\\\20180101_050000_MAN\\\\INFR.EHZ.KR.--',\n",
       " 'L:\\\\Anak Krakatau\\\\SAC\\\\201801\\\\20180101_051000_MAN\\\\INFR.EHZ.KR.--',\n",
       " 'L:\\\\Anak Krakatau\\\\SAC\\\\201801\\\\20180101_052000_MAN\\\\INFR.EHZ.KR.--',\n",
       " 'L:\\\\Anak Krakatau\\\\SAC\\\\201801\\\\20180101_053000_MAN\\\\INFR.EHZ.KR.--',\n",
       " 'L:\\\\Anak Krakatau\\\\SAC\\\\201801\\\\20180101_054000_MAN\\\\INFR.EHZ.KR.--',\n",
       " 'L:\\\\Anak Krakatau\\\\SAC\\\\201801\\\\20180101_055000_MAN\\\\INFR.EHZ.KR.--',\n",
       " 'L:\\\\Anak Krakatau\\\\SAC\\\\201801\\\\20180101_060000_MAN\\\\INFR.EHZ.KR.--',\n",
       " 'L:\\\\Anak Krakatau\\\\SAC\\\\201801\\\\20180101_061000_MAN\\\\INFR.EHZ.KR.--',\n",
       " 'L:\\\\Anak Krakatau\\\\SAC\\\\201801\\\\20180101_062000_MAN\\\\INFR.EHZ.KR.--',\n",
       " 'L:\\\\Anak Krakatau\\\\SAC\\\\201801\\\\20180101_063000_MAN\\\\INFR.EHZ.KR.--',\n",
       " 'L:\\\\Anak Krakatau\\\\SAC\\\\201801\\\\20180101_064000_MAN\\\\INFR.EHZ.KR.--',\n",
       " 'L:\\\\Anak Krakatau\\\\SAC\\\\201801\\\\20180101_065000_MAN\\\\INFR.EHZ.KR.--',\n",
       " 'L:\\\\Anak Krakatau\\\\SAC\\\\201801\\\\20180101_070000_MAN\\\\INFR.EHZ.KR.--',\n",
       " 'L:\\\\Anak Krakatau\\\\SAC\\\\201801\\\\20180101_071000_MAN\\\\INFR.EHZ.KR.--',\n",
       " 'L:\\\\Anak Krakatau\\\\SAC\\\\201801\\\\20180101_072000_MAN\\\\INFR.EHZ.KR.--',\n",
       " 'L:\\\\Anak Krakatau\\\\SAC\\\\201801\\\\20180101_073000_MAN\\\\INFR.EHZ.KR.--',\n",
       " 'L:\\\\Anak Krakatau\\\\SAC\\\\201801\\\\20180101_074000_MAN\\\\INFR.EHZ.KR.--',\n",
       " 'L:\\\\Anak Krakatau\\\\SAC\\\\201801\\\\20180101_075000_MAN\\\\INFR.EHZ.KR.--',\n",
       " 'L:\\\\Anak Krakatau\\\\SAC\\\\201801\\\\20180101_080000_MAN\\\\INFR.EHZ.KR.--',\n",
       " 'L:\\\\Anak Krakatau\\\\SAC\\\\201801\\\\20180101_081000_MAN\\\\INFR.EHZ.KR.--',\n",
       " 'L:\\\\Anak Krakatau\\\\SAC\\\\201801\\\\20180101_082000_MAN\\\\INFR.EHZ.KR.--',\n",
       " 'L:\\\\Anak Krakatau\\\\SAC\\\\201801\\\\20180101_083000_MAN\\\\INFR.EHZ.KR.--',\n",
       " 'L:\\\\Anak Krakatau\\\\SAC\\\\201801\\\\20180101_084000_MAN\\\\INFR.EHZ.KR.--',\n",
       " 'L:\\\\Anak Krakatau\\\\SAC\\\\201801\\\\20180101_085000_MAN\\\\INFR.EHZ.KR.--',\n",
       " 'L:\\\\Anak Krakatau\\\\SAC\\\\201801\\\\20180101_090000_MAN\\\\INFR.EHZ.KR.--',\n",
       " 'L:\\\\Anak Krakatau\\\\SAC\\\\201801\\\\20180101_091000_MAN\\\\INFR.EHZ.KR.--',\n",
       " 'L:\\\\Anak Krakatau\\\\SAC\\\\201801\\\\20180101_092000_MAN\\\\INFR.EHZ.KR.--',\n",
       " 'L:\\\\Anak Krakatau\\\\SAC\\\\201801\\\\20180101_093000_MAN\\\\INFR.EHZ.KR.--',\n",
       " 'L:\\\\Anak Krakatau\\\\SAC\\\\201801\\\\20180101_094000_MAN\\\\INFR.EHZ.KR.--',\n",
       " 'L:\\\\Anak Krakatau\\\\SAC\\\\201801\\\\20180101_095000_MAN\\\\INFR.EHZ.KR.--',\n",
       " 'L:\\\\Anak Krakatau\\\\SAC\\\\201801\\\\20180101_100000_MAN\\\\INFR.EHZ.KR.--',\n",
       " 'L:\\\\Anak Krakatau\\\\SAC\\\\201801\\\\20180101_101000_MAN\\\\INFR.EHZ.KR.--',\n",
       " 'L:\\\\Anak Krakatau\\\\SAC\\\\201801\\\\20180101_102000_MAN\\\\INFR.EHZ.KR.--',\n",
       " 'L:\\\\Anak Krakatau\\\\SAC\\\\201801\\\\20180101_103000_MAN\\\\INFR.EHZ.KR.--',\n",
       " 'L:\\\\Anak Krakatau\\\\SAC\\\\201801\\\\20180101_104000_MAN\\\\INFR.EHZ.KR.--',\n",
       " 'L:\\\\Anak Krakatau\\\\SAC\\\\201801\\\\20180101_105000_MAN\\\\INFR.EHZ.KR.--',\n",
       " 'L:\\\\Anak Krakatau\\\\SAC\\\\201801\\\\20180101_110000_MAN\\\\INFR.EHZ.KR.--',\n",
       " 'L:\\\\Anak Krakatau\\\\SAC\\\\201801\\\\20180101_111000_MAN\\\\INFR.EHZ.KR.--',\n",
       " 'L:\\\\Anak Krakatau\\\\SAC\\\\201801\\\\20180101_112000_MAN\\\\INFR.EHZ.KR.--',\n",
       " 'L:\\\\Anak Krakatau\\\\SAC\\\\201801\\\\20180101_113000_MAN\\\\INFR.EHZ.KR.--',\n",
       " 'L:\\\\Anak Krakatau\\\\SAC\\\\201801\\\\20180101_114000_MAN\\\\INFR.EHZ.KR.--',\n",
       " 'L:\\\\Anak Krakatau\\\\SAC\\\\201801\\\\20180101_115000_MAN\\\\INFR.EHZ.KR.--',\n",
       " 'L:\\\\Anak Krakatau\\\\SAC\\\\201801\\\\20180101_120000_MAN\\\\INFR.EHZ.KR.--',\n",
       " 'L:\\\\Anak Krakatau\\\\SAC\\\\201801\\\\20180101_121000_MAN\\\\INFR.EHZ.KR.--',\n",
       " 'L:\\\\Anak Krakatau\\\\SAC\\\\201801\\\\20180101_122000_MAN\\\\INFR.EHZ.KR.--',\n",
       " 'L:\\\\Anak Krakatau\\\\SAC\\\\201801\\\\20180101_123000_MAN\\\\INFR.EHZ.KR.--',\n",
       " 'L:\\\\Anak Krakatau\\\\SAC\\\\201801\\\\20180101_124000_MAN\\\\INFR.EHZ.KR.--',\n",
       " 'L:\\\\Anak Krakatau\\\\SAC\\\\201801\\\\20180101_125000_MAN\\\\INFR.EHZ.KR.--',\n",
       " 'L:\\\\Anak Krakatau\\\\SAC\\\\201801\\\\20180101_130000_MAN\\\\INFR.EHZ.KR.--',\n",
       " 'L:\\\\Anak Krakatau\\\\SAC\\\\201801\\\\20180101_131000_MAN\\\\INFR.EHZ.KR.--',\n",
       " 'L:\\\\Anak Krakatau\\\\SAC\\\\201801\\\\20180101_132000_MAN\\\\INFR.EHZ.KR.--',\n",
       " 'L:\\\\Anak Krakatau\\\\SAC\\\\201801\\\\20180101_133000_MAN\\\\INFR.EHZ.KR.--',\n",
       " 'L:\\\\Anak Krakatau\\\\SAC\\\\201801\\\\20180101_134000_MAN\\\\INFR.EHZ.KR.--',\n",
       " 'L:\\\\Anak Krakatau\\\\SAC\\\\201801\\\\20180101_135000_MAN\\\\INFR.EHZ.KR.--',\n",
       " 'L:\\\\Anak Krakatau\\\\SAC\\\\201801\\\\20180101_140000_MAN\\\\INFR.EHZ.KR.--',\n",
       " 'L:\\\\Anak Krakatau\\\\SAC\\\\201801\\\\20180101_141000_MAN\\\\INFR.EHZ.KR.--',\n",
       " 'L:\\\\Anak Krakatau\\\\SAC\\\\201801\\\\20180101_142000_MAN\\\\INFR.EHZ.KR.--',\n",
       " 'L:\\\\Anak Krakatau\\\\SAC\\\\201801\\\\20180101_143000_MAN\\\\INFR.EHZ.KR.--',\n",
       " 'L:\\\\Anak Krakatau\\\\SAC\\\\201801\\\\20180101_144000_MAN\\\\INFR.EHZ.KR.--',\n",
       " 'L:\\\\Anak Krakatau\\\\SAC\\\\201801\\\\20180101_145000_MAN\\\\INFR.EHZ.KR.--',\n",
       " 'L:\\\\Anak Krakatau\\\\SAC\\\\201801\\\\20180101_150000_MAN\\\\INFR.EHZ.KR.--',\n",
       " 'L:\\\\Anak Krakatau\\\\SAC\\\\201801\\\\20180101_151000_MAN\\\\INFR.EHZ.KR.--',\n",
       " 'L:\\\\Anak Krakatau\\\\SAC\\\\201801\\\\20180101_152000_MAN\\\\INFR.EHZ.KR.--',\n",
       " 'L:\\\\Anak Krakatau\\\\SAC\\\\201801\\\\20180101_153000_MAN\\\\INFR.EHZ.KR.--',\n",
       " 'L:\\\\Anak Krakatau\\\\SAC\\\\201801\\\\20180101_154000_MAN\\\\INFR.EHZ.KR.--',\n",
       " 'L:\\\\Anak Krakatau\\\\SAC\\\\201801\\\\20180101_155000_MAN\\\\INFR.EHZ.KR.--',\n",
       " 'L:\\\\Anak Krakatau\\\\SAC\\\\201801\\\\20180101_160000_MAN\\\\INFR.EHZ.KR.--',\n",
       " 'L:\\\\Anak Krakatau\\\\SAC\\\\201801\\\\20180101_161000_MAN\\\\INFR.EHZ.KR.--',\n",
       " 'L:\\\\Anak Krakatau\\\\SAC\\\\201801\\\\20180101_162000_MAN\\\\INFR.EHZ.KR.--',\n",
       " 'L:\\\\Anak Krakatau\\\\SAC\\\\201801\\\\20180101_163000_MAN\\\\INFR.EHZ.KR.--',\n",
       " 'L:\\\\Anak Krakatau\\\\SAC\\\\201801\\\\20180101_164000_MAN\\\\INFR.EHZ.KR.--',\n",
       " 'L:\\\\Anak Krakatau\\\\SAC\\\\201801\\\\20180101_165000_MAN\\\\INFR.EHZ.KR.--',\n",
       " 'L:\\\\Anak Krakatau\\\\SAC\\\\201801\\\\20180101_170000_MAN\\\\INFR.EHZ.KR.--',\n",
       " 'L:\\\\Anak Krakatau\\\\SAC\\\\201801\\\\20180101_171000_MAN\\\\INFR.EHZ.KR.--',\n",
       " 'L:\\\\Anak Krakatau\\\\SAC\\\\201801\\\\20180101_172000_MAN\\\\INFR.EHZ.KR.--',\n",
       " 'L:\\\\Anak Krakatau\\\\SAC\\\\201801\\\\20180101_173000_MAN\\\\INFR.EHZ.KR.--',\n",
       " 'L:\\\\Anak Krakatau\\\\SAC\\\\201801\\\\20180101_174000_MAN\\\\INFR.EHZ.KR.--',\n",
       " 'L:\\\\Anak Krakatau\\\\SAC\\\\201801\\\\20180101_175000_MAN\\\\INFR.EHZ.KR.--',\n",
       " 'L:\\\\Anak Krakatau\\\\SAC\\\\201801\\\\20180101_180000_MAN\\\\INFR.EHZ.KR.--',\n",
       " 'L:\\\\Anak Krakatau\\\\SAC\\\\201801\\\\20180101_181000_MAN\\\\INFR.EHZ.KR.--',\n",
       " 'L:\\\\Anak Krakatau\\\\SAC\\\\201801\\\\20180101_182000_MAN\\\\INFR.EHZ.KR.--',\n",
       " 'L:\\\\Anak Krakatau\\\\SAC\\\\201801\\\\20180101_183000_MAN\\\\INFR.EHZ.KR.--',\n",
       " 'L:\\\\Anak Krakatau\\\\SAC\\\\201801\\\\20180101_184000_MAN\\\\INFR.EHZ.KR.--',\n",
       " 'L:\\\\Anak Krakatau\\\\SAC\\\\201801\\\\20180101_185000_MAN\\\\INFR.EHZ.KR.--',\n",
       " 'L:\\\\Anak Krakatau\\\\SAC\\\\201801\\\\20180101_190000_MAN\\\\INFR.EHZ.KR.--',\n",
       " 'L:\\\\Anak Krakatau\\\\SAC\\\\201801\\\\20180101_191000_MAN\\\\INFR.EHZ.KR.--',\n",
       " 'L:\\\\Anak Krakatau\\\\SAC\\\\201801\\\\20180101_192000_MAN\\\\INFR.EHZ.KR.--',\n",
       " 'L:\\\\Anak Krakatau\\\\SAC\\\\201801\\\\20180101_193000_MAN\\\\INFR.EHZ.KR.--',\n",
       " 'L:\\\\Anak Krakatau\\\\SAC\\\\201801\\\\20180101_194000_MAN\\\\INFR.EHZ.KR.--',\n",
       " 'L:\\\\Anak Krakatau\\\\SAC\\\\201801\\\\20180101_195000_MAN\\\\INFR.EHZ.KR.--',\n",
       " 'L:\\\\Anak Krakatau\\\\SAC\\\\201801\\\\20180101_200000_MAN\\\\INFR.EHZ.KR.--',\n",
       " 'L:\\\\Anak Krakatau\\\\SAC\\\\201801\\\\20180101_201000_MAN\\\\INFR.EHZ.KR.--',\n",
       " 'L:\\\\Anak Krakatau\\\\SAC\\\\201801\\\\20180101_202000_MAN\\\\INFR.EHZ.KR.--',\n",
       " 'L:\\\\Anak Krakatau\\\\SAC\\\\201801\\\\20180101_203000_MAN\\\\INFR.EHZ.KR.--',\n",
       " 'L:\\\\Anak Krakatau\\\\SAC\\\\201801\\\\20180101_204000_MAN\\\\INFR.EHZ.KR.--',\n",
       " 'L:\\\\Anak Krakatau\\\\SAC\\\\201801\\\\20180101_205000_MAN\\\\INFR.EHZ.KR.--',\n",
       " 'L:\\\\Anak Krakatau\\\\SAC\\\\201801\\\\20180101_210000_MAN\\\\INFR.EHZ.KR.--',\n",
       " 'L:\\\\Anak Krakatau\\\\SAC\\\\201801\\\\20180101_211000_MAN\\\\INFR.EHZ.KR.--',\n",
       " 'L:\\\\Anak Krakatau\\\\SAC\\\\201801\\\\20180101_212000_MAN\\\\INFR.EHZ.KR.--',\n",
       " 'L:\\\\Anak Krakatau\\\\SAC\\\\201801\\\\20180101_213000_MAN\\\\INFR.EHZ.KR.--',\n",
       " 'L:\\\\Anak Krakatau\\\\SAC\\\\201801\\\\20180101_214000_MAN\\\\INFR.EHZ.KR.--',\n",
       " 'L:\\\\Anak Krakatau\\\\SAC\\\\201801\\\\20180101_215000_MAN\\\\INFR.EHZ.KR.--',\n",
       " 'L:\\\\Anak Krakatau\\\\SAC\\\\201801\\\\20180101_220000_MAN\\\\INFR.EHZ.KR.--',\n",
       " 'L:\\\\Anak Krakatau\\\\SAC\\\\201801\\\\20180101_221000_MAN\\\\INFR.EHZ.KR.--',\n",
       " 'L:\\\\Anak Krakatau\\\\SAC\\\\201801\\\\20180101_222000_MAN\\\\INFR.EHZ.KR.--',\n",
       " 'L:\\\\Anak Krakatau\\\\SAC\\\\201801\\\\20180101_223000_MAN\\\\INFR.EHZ.KR.--',\n",
       " 'L:\\\\Anak Krakatau\\\\SAC\\\\201801\\\\20180101_224000_MAN\\\\INFR.EHZ.KR.--',\n",
       " 'L:\\\\Anak Krakatau\\\\SAC\\\\201801\\\\20180101_225000_MAN\\\\INFR.EHZ.KR.--',\n",
       " 'L:\\\\Anak Krakatau\\\\SAC\\\\201801\\\\20180101_230000_MAN\\\\INFR.EHZ.KR.--',\n",
       " 'L:\\\\Anak Krakatau\\\\SAC\\\\201801\\\\20180101_231000_MAN\\\\INFR.EHZ.KR.--',\n",
       " 'L:\\\\Anak Krakatau\\\\SAC\\\\201801\\\\20180101_232000_MAN\\\\INFR.EHZ.KR.--',\n",
       " 'L:\\\\Anak Krakatau\\\\SAC\\\\201801\\\\20180101_233000_MAN\\\\INFR.EHZ.KR.--',\n",
       " 'L:\\\\Anak Krakatau\\\\SAC\\\\201801\\\\20180101_234000_MAN\\\\INFR.EHZ.KR.--',\n",
       " 'L:\\\\Anak Krakatau\\\\SAC\\\\201801\\\\20180101_235000_MAN\\\\INFR.EHZ.KR.--']"
      ]
     },
     "execution_count": 10,
     "metadata": {},
     "output_type": "execute_result"
    }
   ],
   "source": [
    "mseeds"
   ]
  },
  {
   "cell_type": "code",
   "execution_count": null,
   "id": "a8dc0332-2390-4774-90fc-da9a6d550ab0",
   "metadata": {},
   "outputs": [],
   "source": [
    "def filter(string, substr):\n",
    "    return [str for str in string if re.match(r'[^\\d]+|^', str).group(0) in substr]"
   ]
  },
  {
   "cell_type": "code",
   "execution_count": null,
   "id": "d816f6e7-32a6-4831-8ec7-f99f4b6334c9",
   "metadata": {},
   "outputs": [],
   "source": [
    "print(filter(mseeds, '20180101'))"
   ]
  },
  {
   "cell_type": "code",
   "execution_count": null,
   "id": "4bf07803-a860-4a7c-8aca-9d3901324b04",
   "metadata": {},
   "outputs": [],
   "source": []
  }
 ],
 "metadata": {
  "kernelspec": {
   "display_name": "Python 3",
   "language": "python",
   "name": "python3"
  },
  "language_info": {
   "codemirror_mode": {
    "name": "ipython",
    "version": 3
   },
   "file_extension": ".py",
   "mimetype": "text/x-python",
   "name": "python",
   "nbconvert_exporter": "python",
   "pygments_lexer": "ipython3",
   "version": "3.8.8"
  }
 },
 "nbformat": 4,
 "nbformat_minor": 5
}
