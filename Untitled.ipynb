{
 "cells": [
  {
   "cell_type": "code",
   "execution_count": 2,
   "id": "37c85d8f-a59f-4f52-9a0e-e353819d2cf5",
   "metadata": {},
   "outputs": [],
   "source": [
    "from obspy import read, Stream\n",
    "import os"
   ]
  },
  {
   "cell_type": "code",
   "execution_count": 3,
   "id": "dd6c9cba-dffd-4f99-b1fd-a59a7125be65",
   "metadata": {},
   "outputs": [],
   "source": [
    "st = read('F:\\\\Ijen\\\\Seismik Ijen\\\\2019\\\\20190101\\\\Set00\\\\2019-01-01-0000-00S.MAN___011')"
   ]
  },
  {
   "cell_type": "code",
   "execution_count": 4,
   "id": "aecfb0c4-41af-4384-9e0e-7435f9977441",
   "metadata": {},
   "outputs": [],
   "source": [
    "zzz = st.select(component=\"Z\")"
   ]
  },
  {
   "cell_type": "code",
   "execution_count": 6,
   "id": "fdb759e8-f382-4a81-8352-62546ba21e29",
   "metadata": {},
   "outputs": [
    {
     "data": {
      "text/plain": [
       "11 Trace(s) in Stream:\n",
       ".RAUN.Z.EH | 2019-01-01T00:00:00.000000Z - 2019-01-01T00:09:59.990000Z | 100.0 Hz, 60000 samples\n",
       ".TRWI.Z.EH | 2019-01-01T00:00:00.000000Z - 2019-01-01T00:09:59.990000Z | 100.0 Hz, 60000 samples\n",
       ".TRWI.N.EH | 2019-01-01T00:00:00.000000Z - 2019-01-01T00:09:59.990000Z | 100.0 Hz, 60000 samples\n",
       ".TRWI.E.EH | 2019-01-01T00:00:00.000000Z - 2019-01-01T00:09:59.990000Z | 100.0 Hz, 60000 samples\n",
       ".KWUI.Z.EH | 2019-01-01T00:00:00.000000Z - 2019-01-01T00:09:59.990000Z | 100.0 Hz, 60000 samples\n",
       ".IJEN.Z.EH | 2019-01-01T00:00:00.000000Z - 2019-01-01T00:09:59.990000Z | 100.0 Hz, 60000 samples\n",
       ".MLLR.Z.EH | 2019-01-01T00:00:00.000000Z - 2019-01-01T00:09:59.990000Z | 100.0 Hz, 60000 samples\n",
       ".MLLR.N.EH | 2019-01-01T00:00:00.000000Z - 2019-01-01T00:09:59.990000Z | 100.0 Hz, 60000 samples\n",
       ".MLLR.E.EH | 2019-01-01T00:00:00.000000Z - 2019-01-01T00:09:59.990000Z | 100.0 Hz, 60000 samples\n",
       ".POSI.Z.EH | 2019-01-01T00:00:00.000000Z - 2019-01-01T00:09:59.990000Z | 100.0 Hz, 60000 samples\n",
       ".MLTN.Z.EH | 2019-01-01T00:00:00.000000Z - 2019-01-01T00:09:59.990000Z | 100.0 Hz, 60000 samples"
      ]
     },
     "execution_count": 6,
     "metadata": {},
     "output_type": "execute_result"
    }
   ],
   "source": [
    "st"
   ]
  },
  {
   "cell_type": "code",
   "execution_count": 77,
   "id": "2f8f1ebe-5ab7-4f30-b32e-c1d8f7ae6160",
   "metadata": {},
   "outputs": [],
   "source": [
    "input_directory = \"E:\\\\Downloads\\\\Seismik\"\n",
    "\n",
    "file_path = os.path.join(input_directory, \"{}-{}\".format('2023-06-13', '*'))\n",
    "\n",
    "while True:\n",
    "    try:\n",
    "        streams = read(file_path, check_compression = False)\n",
    "    except Exception as e:\n",
    "        file_error = str(e).split('\\\\')[-1]\n",
    "        new_name = 'ERROR_{}'.format(file_error)\n",
    "        os.rename(\n",
    "            os.path.join(input_directory, file_error),\n",
    "            os.path.join(input_directory, new_name)\n",
    "        )\n",
    "    else:\n",
    "        break"
   ]
  },
  {
   "cell_type": "code",
   "execution_count": 78,
   "id": "900f350f-c5ed-4997-bd93-0d39b03e5186",
   "metadata": {},
   "outputs": [
    {
     "data": {
      "text/plain": [
       "7 Trace(s) in Stream:\n",
       "VG.EMP.00.EHZ | 2023-06-13T00:00:00.000000Z - 2023-06-13T23:09:59.990000Z | 100.0 Hz, 8340000 samples\n",
       "VG.KIN.00.EHZ | 2023-06-13T00:00:00.000000Z - 2023-06-13T23:09:59.990000Z | 100.0 Hz, 8340000 samples\n",
       "VG.MAH.00.EHZ | 2023-06-13T00:00:00.000000Z - 2023-06-13T23:09:59.990000Z | 100.0 Hz, 8340000 samples\n",
       "VG.SOP.00.EHZ | 2023-06-13T00:00:00.000000Z - 2023-06-13T23:09:59.990000Z | 100.0 Hz, 8340000 samples\n",
       "VG.WLN.00.EHE | 2023-06-13T00:00:00.000000Z - 2023-06-13T23:09:59.990000Z | 100.0 Hz, 8340000 samples\n",
       "VG.WLN.00.EHZ | 2023-06-13T00:00:00.000000Z - 2023-06-13T23:09:59.990000Z | 100.0 Hz, 8340000 samples\n",
       "VG.WLN.00.EHN | 2023-06-13T00:00:00.000000Z - 2023-06-13T23:09:59.990000Z | 100.0 Hz, 8340000 samples"
      ]
     },
     "execution_count": 78,
     "metadata": {},
     "output_type": "execute_result"
    }
   ],
   "source": [
    "streams.merge(fill_value=0)"
   ]
  },
  {
   "cell_type": "code",
   "execution_count": 79,
   "id": "0241a701-841c-48ab-826f-94bad1f1ac96",
   "metadata": {},
   "outputs": [],
   "source": [
    "new_streams = Stream([streams.select(station=station)[0] for station in [\"EMP\",\"MAH\",\"KIN\"]])"
   ]
  },
  {
   "cell_type": "code",
   "execution_count": 80,
   "id": "e4e487bd-68b8-4cd7-9098-7ed9289dba17",
   "metadata": {},
   "outputs": [
    {
     "data": {
      "text/plain": [
       "3 Trace(s) in Stream:\n",
       "VG.EMP.00.EHZ | 2023-06-13T00:00:00.000000Z - 2023-06-13T23:09:59.990000Z | 100.0 Hz, 8340000 samples\n",
       "VG.MAH.00.EHZ | 2023-06-13T00:00:00.000000Z - 2023-06-13T23:09:59.990000Z | 100.0 Hz, 8340000 samples\n",
       "VG.KIN.00.EHZ | 2023-06-13T00:00:00.000000Z - 2023-06-13T23:09:59.990000Z | 100.0 Hz, 8340000 samples"
      ]
     },
     "execution_count": 80,
     "metadata": {},
     "output_type": "execute_result"
    }
   ],
   "source": [
    "new_streams"
   ]
  },
  {
   "cell_type": "code",
   "execution_count": 81,
   "id": "645c7737-d35e-4f12-98e6-7d1aa984df67",
   "metadata": {},
   "outputs": [
    {
     "data": {
      "text/plain": [
       "0 Trace(s) in Stream:\n"
      ]
     },
     "execution_count": 81,
     "metadata": {},
     "output_type": "execute_result"
    }
   ],
   "source": [
    "streams.clear()\n",
    "\n",
    "streams"
   ]
  },
  {
   "cell_type": "code",
   "execution_count": null,
   "id": "cdf158b2-300f-41be-913f-adcc5484ba31",
   "metadata": {},
   "outputs": [],
   "source": []
  }
 ],
 "metadata": {
  "kernelspec": {
   "display_name": "Python 3 (ipykernel)",
   "language": "python",
   "name": "python3"
  },
  "language_info": {
   "codemirror_mode": {
    "name": "ipython",
    "version": 3
   },
   "file_extension": ".py",
   "mimetype": "text/x-python",
   "name": "python",
   "nbconvert_exporter": "python",
   "pygments_lexer": "ipython3",
   "version": "3.8.16"
  }
 },
 "nbformat": 4,
 "nbformat_minor": 5
}
