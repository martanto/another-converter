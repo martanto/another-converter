{
 "cells": [
  {
   "cell_type": "code",
   "execution_count": null,
   "id": "ee4ac80b-1fe6-4a4b-8f9d-8e46a2ac9741",
   "metadata": {},
   "outputs": [],
   "source": [
    "import os\n",
    "from glob import glob\n",
    "import re"
   ]
  },
  {
   "cell_type": "code",
   "execution_count": null,
   "id": "faca9f42-c338-42aa-b130-eea537f59430",
   "metadata": {},
   "outputs": [],
   "source": [
    "sac_dir = 'L:\\\\Anak Krakatau\\\\SAC'"
   ]
  },
  {
   "cell_type": "code",
   "execution_count": null,
   "id": "3a7b96f5-aa30-4c69-85d6-3079056fdabd",
   "metadata": {},
   "outputs": [],
   "source": [
    "directory = os.path.join(sac_dir,'201801','20180101*','INFR*')\n",
    "directory"
   ]
  },
  {
   "cell_type": "code",
   "execution_count": null,
   "id": "b712ba67-f70c-44b7-a697-c84af51bf494",
   "metadata": {},
   "outputs": [],
   "source": [
    "mseeds = [mseed for mseed in glob(directory)]"
   ]
  },
  {
   "cell_type": "code",
   "execution_count": null,
   "id": "df6d5fc1-1efd-4755-8e06-80ebeef27e31",
   "metadata": {},
   "outputs": [],
   "source": [
    "len(mseeds)"
   ]
  },
  {
   "cell_type": "code",
   "execution_count": null,
   "id": "cf6feaa0-225d-4e45-ab78-a18ab2b958b9",
   "metadata": {
    "tags": []
   },
   "outputs": [],
   "source": [
    "mseeds"
   ]
  },
  {
   "cell_type": "code",
   "execution_count": null,
   "id": "a8dc0332-2390-4774-90fc-da9a6d550ab0",
   "metadata": {},
   "outputs": [],
   "source": [
    "def filter(string, substr):\n",
    "    return [str for str in string if re.match(r'[^\\d]+|^', str).group(0) in substr]"
   ]
  },
  {
   "cell_type": "code",
   "execution_count": null,
   "id": "d816f6e7-32a6-4831-8ec7-f99f4b6334c9",
   "metadata": {},
   "outputs": [],
   "source": [
    "print(filter(mseeds, '20180101'))"
   ]
  },
  {
   "cell_type": "code",
   "execution_count": null,
   "id": "4bf07803-a860-4a7c-8aca-9d3901324b04",
   "metadata": {
    "tags": []
   },
   "outputs": [],
   "source": [
    "from models.SeismicData import SeismicData"
   ]
  },
  {
   "cell_type": "code",
   "execution_count": null,
   "id": "cde59365-5b20-4788-a5f3-fa4c5220b151",
   "metadata": {
    "tags": []
   },
   "outputs": [],
   "source": [
    "data = SeismicData.count()"
   ]
  },
  {
   "cell_type": "code",
   "execution_count": null,
   "id": "a12bd0db-9198-4394-bfd7-faa371c1e22c",
   "metadata": {
    "tags": []
   },
   "outputs": [],
   "source": [
    "data"
   ]
  },
  {
   "cell_type": "code",
   "execution_count": null,
   "id": "96d1e383-a4ed-4a52-a938-4e8ab67b0c97",
   "metadata": {
    "tags": []
   },
   "outputs": [],
   "source": [
    "from obspy import read\n",
    "import os"
   ]
  },
  {
   "cell_type": "code",
   "execution_count": null,
   "id": "31f6b21e-de29-4bf8-b103-2ebfa7fa8500",
   "metadata": {
    "tags": []
   },
   "outputs": [],
   "source": [
    "sds = 'D:\\\\Output\\\\Converted\\\\SDS\\\\2020\\\\VG\\\\LEKR\\\\EHZ.D'\n",
    "st = read(os.path.join(sds, 'VG.LEKR.00.EHZ.D.2020.278'))"
   ]
  },
  {
   "cell_type": "code",
   "execution_count": null,
   "id": "dd07b439-3b5c-42c4-837c-f06c0f5deb87",
   "metadata": {
    "tags": []
   },
   "outputs": [],
   "source": [
    "print(os.path.join(sds, 'VG.LEKR.00.EHZ.D.2020.278.jpg'))"
   ]
  },
  {
   "cell_type": "code",
   "execution_count": null,
   "id": "1e686097-5eba-4155-ba08-fb72115f837d",
   "metadata": {
    "tags": []
   },
   "outputs": [],
   "source": [
    "st[0].plot(\n",
    "    type = 'dayplot',\n",
    "    interval = 30,\n",
    "    one_tick_per_line = True,\n",
    "    color = ['k'],\n",
    "    outfile = '1 VG.LEKR.00.EHZ.D.2020.278.jpg',\n",
    "    number_of_ticks = 13,\n",
    "    size= (1600,900),\n",
    ")"
   ]
  },
  {
   "cell_type": "code",
   "execution_count": null,
   "id": "458c576c-eba5-41f1-8b7f-23ed2ef64edc",
   "metadata": {},
   "outputs": [],
   "source": []
  }
 ],
 "metadata": {
  "kernelspec": {
   "display_name": "Python 3 (ipykernel)",
   "language": "python",
   "name": "python3"
  },
  "language_info": {
   "codemirror_mode": {
    "name": "ipython",
    "version": 3
   },
   "file_extension": ".py",
   "mimetype": "text/x-python",
   "name": "python",
   "nbconvert_exporter": "python",
   "pygments_lexer": "ipython3",
   "version": "3.11.4"
  }
 },
 "nbformat": 4,
 "nbformat_minor": 5
}
