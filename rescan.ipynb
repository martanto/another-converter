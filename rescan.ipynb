{
 "cells": [
  {
   "cell_type": "code",
   "execution_count": null,
   "id": "3ce60cc7-8b62-435b-8f03-0f5487476c81",
   "metadata": {},
   "outputs": [],
   "source": [
    "import os\n",
    "from obspy import read\n",
    "from glob import glob\n",
    "from cores.sds import SDS\n",
    "from cores.plot import Plot\n",
    "from cores.save_index import SaveIndex\n",
    "from cores.log import log\n",
    "from config.config import Configuration"
   ]
  },
  {
   "cell_type": "code",
   "execution_count": null,
   "id": "6905bc32-bac5-44c4-b4ae-99e15ca74084",
   "metadata": {},
   "outputs": [],
   "source": [
    "config = Configuration(location='config.json', create_directory=False).get()"
   ]
  },
  {
   "cell_type": "code",
   "execution_count": null,
   "id": "8dc29986-97bd-4a6f-a66b-d86bdc1aa760",
   "metadata": {},
   "outputs": [],
   "source": [
    "converted_dir = config['converted_directory']\n",
    "sds_dir =  os.path.join(converted_dir,'SDS')\n",
    "\n",
    "print('SDS Directory : {}'. format(sds_dir))"
   ]
  },
  {
   "cell_type": "code",
   "execution_count": null,
   "id": "9ffc3493-bc3e-411c-9181-9ff022f006d9",
   "metadata": {},
   "outputs": [],
   "source": [
    "mseeds = SDS().scan(sds_dir)"
   ]
  },
  {
   "cell_type": "code",
   "execution_count": null,
   "id": "751571a5-b82c-4eb3-805d-5b0fc162b345",
   "metadata": {},
   "outputs": [],
   "source": [
    "filename_and_traces = [SDS().extract_header(mseed) for mseed in mseeds]"
   ]
  },
  {
   "cell_type": "code",
   "execution_count": null,
   "id": "0b0cc115-0b83-49bf-b682-0a94e2ad568e",
   "metadata": {
    "scrolled": true
   },
   "outputs": [],
   "source": [
    "for filename, trace in filename_and_traces:\n",
    "    info, log_txt = SaveIndex().update(filename, trace)\n",
    "    print(info)\n",
    "    log(log_txt, 'rescan.csv', overwrite=True)"
   ]
  }
 ],
 "metadata": {
  "kernelspec": {
   "display_name": "Python 3 (ipykernel)",
   "language": "python",
   "name": "python3"
  },
  "language_info": {
   "codemirror_mode": {
    "name": "ipython",
    "version": 3
   },
   "file_extension": ".py",
   "mimetype": "text/x-python",
   "name": "python",
   "nbconvert_exporter": "python",
   "pygments_lexer": "ipython3",
   "version": "3.8.16"
  }
 },
 "nbformat": 4,
 "nbformat_minor": 5
}
