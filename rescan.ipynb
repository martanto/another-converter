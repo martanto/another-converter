{
 "cells": [
  {
   "cell_type": "code",
   "execution_count": 2,
   "id": "3ce60cc7-8b62-435b-8f03-0f5487476c81",
   "metadata": {},
   "outputs": [],
   "source": [
    "# from cores.rescan import Rescan\n",
    "import os"
   ]
  },
  {
   "cell_type": "code",
   "execution_count": 3,
   "id": "eb4fa6b1-3fad-4e5c-b4e5-a3420b304aca",
   "metadata": {
    "tags": []
   },
   "outputs": [],
   "source": [
    "# Rescan(replot=True).run()"
   ]
  },
  {
   "cell_type": "code",
   "execution_count": 4,
   "id": "c3692ed5-c16e-4f23-9566-55a35d9a8ea3",
   "metadata": {},
   "outputs": [],
   "source": [
    "path = 'H:\\\\Output\\\\Converted\\\\SDS\\\\2018\\\\VG\\ABNG\\\\EHN.D\\\\VG.ABNG.00.EHN.D.2018.181'"
   ]
  },
  {
   "cell_type": "code",
   "execution_count": 8,
   "id": "887111d0-1149-4ab5-8d03-955092a66084",
   "metadata": {},
   "outputs": [],
   "source": [
    "filename = os.path.split(path)[1].split('.')"
   ]
  },
  {
   "cell_type": "code",
   "execution_count": 9,
   "id": "f5f88c32-364f-456d-af47-856cc093c1e5",
   "metadata": {},
   "outputs": [
    {
     "data": {
      "text/plain": [
       "['VG', 'ABNG', '00', 'EHN', 'D', '2018', '181']"
      ]
     },
     "execution_count": 9,
     "metadata": {},
     "output_type": "execute_result"
    }
   ],
   "source": [
    "filename"
   ]
  },
  {
   "cell_type": "code",
   "execution_count": 22,
   "id": "3e6f19dc-400f-4450-8f3c-3c956b0b9d99",
   "metadata": {},
   "outputs": [],
   "source": [
    "station = filename[1]\n",
    "channel = filename[3]\n",
    "network = filename[0]\n",
    "year = filename[5]\n",
    "doy = filename[6]\n",
    "\n",
    "scnl = '{}_{}_{}_{}'.format(station, channel, network, '00')"
   ]
  },
  {
   "cell_type": "code",
   "execution_count": 23,
   "id": "ca8fbc3a-3b1d-4ab5-a9e0-1ab2ba60ee41",
   "metadata": {},
   "outputs": [
    {
     "data": {
      "text/plain": [
       "'ABNG_EHN_VG_00'"
      ]
     },
     "execution_count": 23,
     "metadata": {},
     "output_type": "execute_result"
    }
   ],
   "source": [
    "scnl"
   ]
  },
  {
   "cell_type": "code",
   "execution_count": 24,
   "id": "e44824d0-cd3b-408c-9c29-a2a7ea5b9398",
   "metadata": {},
   "outputs": [],
   "source": [
    "from datetime import datetime"
   ]
  },
  {
   "cell_type": "code",
   "execution_count": 25,
   "id": "634a794c-fe97-45da-b439-13b731d8c979",
   "metadata": {},
   "outputs": [],
   "source": [
    "date = datetime.strptime('{} {}'.format(year, doy), '%Y %j').strftime('%Y-%m-%d')"
   ]
  },
  {
   "cell_type": "code",
   "execution_count": 26,
   "id": "588864c5-7c59-45a9-8ab8-10208ad59153",
   "metadata": {},
   "outputs": [],
   "source": [
    "from models.SeismicData import SeismicData"
   ]
  },
  {
   "cell_type": "code",
   "execution_count": 29,
   "id": "8b2c1b40-8fdd-4aed-b823-efa4cb53e890",
   "metadata": {},
   "outputs": [],
   "source": [
    "seismic_data = SeismicData.where('scnl', scnl).where('date', date).first()\n",
    "exists = True if seismic_data else False"
   ]
  },
  {
   "cell_type": "code",
   "execution_count": 30,
   "id": "5e31c985-2bf4-4dfc-b740-ea5ecfed4491",
   "metadata": {},
   "outputs": [
    {
     "data": {
      "text/plain": [
       "True"
      ]
     },
     "execution_count": 30,
     "metadata": {},
     "output_type": "execute_result"
    }
   ],
   "source": [
    "exists"
   ]
  },
  {
   "cell_type": "code",
   "execution_count": null,
   "id": "75ddafe5-75a6-435a-a596-fd6a2922a30e",
   "metadata": {},
   "outputs": [],
   "source": []
  }
 ],
 "metadata": {
  "kernelspec": {
   "display_name": "Python 3",
   "language": "python",
   "name": "python3"
  },
  "language_info": {
   "codemirror_mode": {
    "name": "ipython",
    "version": 3
   },
   "file_extension": ".py",
   "mimetype": "text/x-python",
   "name": "python",
   "nbconvert_exporter": "python",
   "pygments_lexer": "ipython3",
   "version": "3.8.8"
  }
 },
 "nbformat": 4,
 "nbformat_minor": 5
}
