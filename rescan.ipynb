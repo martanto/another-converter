{
 "cells": [
  {
   "cell_type": "code",
   "execution_count": null,
   "id": "3ce60cc7-8b62-435b-8f03-0f5487476c81",
   "metadata": {},
   "outputs": [],
   "source": [
    "from cores.rescan import Rescan"
   ]
  },
  {
   "cell_type": "code",
   "execution_count": null,
   "id": "eb4fa6b1-3fad-4e5c-b4e5-a3420b304aca",
   "metadata": {
    "tags": []
   },
   "outputs": [],
   "source": [
    "Rescan(replot=True).run()"
   ]
  }
 ],
 "metadata": {
  "kernelspec": {
   "display_name": "Python 3 (ipykernel)",
   "language": "python",
   "name": "python3"
  },
  "language_info": {
   "codemirror_mode": {
    "name": "ipython",
    "version": 3
   },
   "file_extension": ".py",
   "mimetype": "text/x-python",
   "name": "python",
   "nbconvert_exporter": "python",
   "pygments_lexer": "ipython3",
   "version": "3.11.4"
  }
 },
 "nbformat": 4,
 "nbformat_minor": 5
}
