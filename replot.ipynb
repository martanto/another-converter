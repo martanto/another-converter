{
 "cells": [
  {
   "cell_type": "code",
   "execution_count": null,
   "id": "cbca1e2d-a0d0-4691-864c-708bbc3e4452",
   "metadata": {
    "tags": []
   },
   "outputs": [],
   "source": [
    "from obspy import read\n",
    "from models.SeismicData import SeismicData\n",
    "from config.config import Configuration\n",
    "import os\n",
    "from cores.rescan import Rescan"
   ]
  },
  {
   "cell_type": "code",
   "execution_count": null,
   "id": "1dd117bc-61b7-43eb-92b1-e836b77aef3c",
   "metadata": {
    "tags": []
   },
   "outputs": [],
   "source": [
    "config = Configuration().get()\n",
    "converted_directory = config['converted_directory']\n",
    "dayplot_directory = config['dayplot_directory']\n",
    "\n",
    "print(converted_directory)"
   ]
  },
  {
   "cell_type": "code",
   "execution_count": null,
   "id": "55170f74-c3f2-4026-a3b8-044e69071762",
   "metadata": {
    "tags": []
   },
   "outputs": [],
   "source": [
    "seismics = SeismicData.all()"
   ]
  },
  {
   "cell_type": "code",
   "execution_count": null,
   "id": "94ab0ddc-d3a0-4156-b8a3-2a06fc5e3992",
   "metadata": {
    "tags": []
   },
   "outputs": [],
   "source": [
    "seismics.count()"
   ]
  },
  {
   "cell_type": "code",
   "execution_count": null,
   "id": "48368044-6a7e-4059-ae0c-a8dd4b5d9bb3",
   "metadata": {
    "tags": []
   },
   "outputs": [],
   "source": [
    "seismic = os.path.join(converted_directory, seismics[0].filename)"
   ]
  },
  {
   "cell_type": "code",
   "execution_count": null,
   "id": "ae4cdd92-5ae1-4491-bde6-5e14703f8f14",
   "metadata": {
    "tags": []
   },
   "outputs": [],
   "source": [
    "output = os.path.join(dayplot_directory, seismics[0].filename+'.png')\n",
    "output"
   ]
  },
  {
   "cell_type": "code",
   "execution_count": null,
   "id": "e36c3667-1ef5-4d40-925b-0e5ec9398eee",
   "metadata": {
    "tags": []
   },
   "outputs": [],
   "source": [
    "def run(trace):\n",
    "    Rescan().plot(trace)"
   ]
  },
  {
   "cell_type": "code",
   "execution_count": null,
   "id": "7bbe4b62-ef18-48e2-ab7a-6a743fe8bec5",
   "metadata": {
    "tags": []
   },
   "outputs": [],
   "source": [
    "for seismic in seismics:\n",
    "    trace = read(os.path.join(converted_directory, seismic.filename))[0]\n",
    "    print(trace.id)\n",
    "    run(trace)"
   ]
  },
  {
   "cell_type": "code",
   "execution_count": null,
   "id": "8748035d-02ac-4a62-9dbf-3cf82b363dce",
   "metadata": {},
   "outputs": [],
   "source": []
  }
 ],
 "metadata": {
  "kernelspec": {
   "display_name": "Python 3 (ipykernel)",
   "language": "python",
   "name": "python3"
  },
  "language_info": {
   "codemirror_mode": {
    "name": "ipython",
    "version": 3
   },
   "file_extension": ".py",
   "mimetype": "text/x-python",
   "name": "python",
   "nbconvert_exporter": "python",
   "pygments_lexer": "ipython3",
   "version": "3.11.4"
  }
 },
 "nbformat": 4,
 "nbformat_minor": 5
}
